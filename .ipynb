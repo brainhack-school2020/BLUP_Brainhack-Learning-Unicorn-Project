{
 "cells": [
  {
   "cell_type": "markdown",
   "metadata": {},
   "source": [
    "# BHS 2020 project: Brain Learning Unicorn Project"
   ]
  },
  {
   "cell_type": "markdown",
   "metadata": {},
   "source": [
    "*Using UKBB to apply the new tools learned at the BHS*"
   ]
  },
  {
   "cell_type": "markdown",
   "metadata": {},
   "source": [
    "Author: Elise Douard"
   ]
  },
  {
   "cell_type": "code",
   "execution_count": 3,
   "metadata": {},
   "outputs": [],
   "source": [
    "# Import all the libraries of interest\n",
    "import os\n",
    "import pandas\n",
    "import numpy as np\n",
    "import matplotlib.pyplot as plt\n",
    "import seaborn as sns\n",
    "from nilearn.datasets import fetch_development_fmri\n",
    "\n",
    "%matplotlib inline"
   ]
  },
  {
   "cell_type": "code",
   "execution_count": 11,
   "metadata": {},
   "outputs": [],
   "source": [
    "# Import my dataset\n",
    "UKBB_gen_MRI_path = ('/home/elise/Documents/UKBB/FreeSurfer_Desikan_parcellation/Freesurfer_aparc_volume_lh_UKBB_40k_CNVs_apr2020.csv')\n",
    "UKBB_gen_MRI = pandas.read_csv(UKBB_gen_MRI_path,sep=',')"
   ]
  },
  {
   "cell_type": "markdown",
   "metadata": {},
   "source": [
    "## Preliminary description of the dataset"
   ]
  },
  {
   "cell_type": "markdown",
   "metadata": {},
   "source": [
    "These are the raw data from which I will extract my groups of CNV carriers and controls. "
   ]
  },
  {
   "cell_type": "code",
   "execution_count": 12,
   "metadata": {},
   "outputs": [
    {
     "data": {
      "text/html": [
       "<div>\n",
       "<style scoped>\n",
       "    .dataframe tbody tr th:only-of-type {\n",
       "        vertical-align: middle;\n",
       "    }\n",
       "\n",
       "    .dataframe tbody tr th {\n",
       "        vertical-align: top;\n",
       "    }\n",
       "\n",
       "    .dataframe thead th {\n",
       "        text-align: right;\n",
       "    }\n",
       "</style>\n",
       "<table border=\"1\" class=\"dataframe\">\n",
       "  <thead>\n",
       "    <tr style=\"text-align: right;\">\n",
       "      <th></th>\n",
       "      <th>eid</th>\n",
       "      <th>sex</th>\n",
       "      <th>site</th>\n",
       "      <th>age</th>\n",
       "      <th>KirovPathCNV</th>\n",
       "      <th>lh_bankssts_volume</th>\n",
       "      <th>lh_caudalanteriorcingulate_volume</th>\n",
       "      <th>lh_caudalmiddlefrontal_volume</th>\n",
       "      <th>lh_cuneus_volume</th>\n",
       "      <th>lh_entorhinal_volume</th>\n",
       "      <th>...</th>\n",
       "      <th>lh_rostralmiddlefrontal_volume</th>\n",
       "      <th>lh_superiorfrontal_volume</th>\n",
       "      <th>lh_superiorparietal_volume</th>\n",
       "      <th>lh_superiortemporal_volume</th>\n",
       "      <th>lh_supramarginal_volume</th>\n",
       "      <th>lh_frontalpole_volume</th>\n",
       "      <th>lh_temporalpole_volume</th>\n",
       "      <th>lh_transversetemporal_volume</th>\n",
       "      <th>lh_insula_volume</th>\n",
       "      <th>Total</th>\n",
       "    </tr>\n",
       "  </thead>\n",
       "  <tbody>\n",
       "    <tr>\n",
       "      <th>0</th>\n",
       "      <td>1000169</td>\n",
       "      <td>Female</td>\n",
       "      <td>11026</td>\n",
       "      <td>69.825269</td>\n",
       "      <td>control</td>\n",
       "      <td>2897</td>\n",
       "      <td>1175</td>\n",
       "      <td>6272</td>\n",
       "      <td>2877</td>\n",
       "      <td>2201</td>\n",
       "      <td>...</td>\n",
       "      <td>13333</td>\n",
       "      <td>22929</td>\n",
       "      <td>14670</td>\n",
       "      <td>11387</td>\n",
       "      <td>11828</td>\n",
       "      <td>971</td>\n",
       "      <td>2590</td>\n",
       "      <td>1008</td>\n",
       "      <td>7023</td>\n",
       "      <td>1.459688e+06</td>\n",
       "    </tr>\n",
       "    <tr>\n",
       "      <th>1</th>\n",
       "      <td>1000442</td>\n",
       "      <td>Female</td>\n",
       "      <td>11026</td>\n",
       "      <td>70.637097</td>\n",
       "      <td>control</td>\n",
       "      <td>2128</td>\n",
       "      <td>2464</td>\n",
       "      <td>6764</td>\n",
       "      <td>2783</td>\n",
       "      <td>1713</td>\n",
       "      <td>...</td>\n",
       "      <td>14471</td>\n",
       "      <td>21541</td>\n",
       "      <td>13495</td>\n",
       "      <td>12930</td>\n",
       "      <td>9966</td>\n",
       "      <td>1122</td>\n",
       "      <td>2591</td>\n",
       "      <td>1099</td>\n",
       "      <td>6871</td>\n",
       "      <td>1.471546e+06</td>\n",
       "    </tr>\n",
       "    <tr>\n",
       "      <th>2</th>\n",
       "      <td>1000478</td>\n",
       "      <td>Male</td>\n",
       "      <td>11027</td>\n",
       "      <td>64.913978</td>\n",
       "      <td>control</td>\n",
       "      <td>2990</td>\n",
       "      <td>1664</td>\n",
       "      <td>8464</td>\n",
       "      <td>3859</td>\n",
       "      <td>2042</td>\n",
       "      <td>...</td>\n",
       "      <td>15640</td>\n",
       "      <td>25236</td>\n",
       "      <td>12596</td>\n",
       "      <td>13683</td>\n",
       "      <td>11392</td>\n",
       "      <td>908</td>\n",
       "      <td>2531</td>\n",
       "      <td>1431</td>\n",
       "      <td>7896</td>\n",
       "      <td>1.640301e+06</td>\n",
       "    </tr>\n",
       "    <tr>\n",
       "      <th>3</th>\n",
       "      <td>1000712</td>\n",
       "      <td>Male</td>\n",
       "      <td>11025</td>\n",
       "      <td>53.120968</td>\n",
       "      <td>control</td>\n",
       "      <td>3569</td>\n",
       "      <td>1070</td>\n",
       "      <td>7927</td>\n",
       "      <td>3395</td>\n",
       "      <td>1781</td>\n",
       "      <td>...</td>\n",
       "      <td>19369</td>\n",
       "      <td>25941</td>\n",
       "      <td>15435</td>\n",
       "      <td>14427</td>\n",
       "      <td>16230</td>\n",
       "      <td>983</td>\n",
       "      <td>2840</td>\n",
       "      <td>1417</td>\n",
       "      <td>7405</td>\n",
       "      <td>1.718176e+06</td>\n",
       "    </tr>\n",
       "    <tr>\n",
       "      <th>4</th>\n",
       "      <td>1000740</td>\n",
       "      <td>Female</td>\n",
       "      <td>11025</td>\n",
       "      <td>66.413978</td>\n",
       "      <td>control</td>\n",
       "      <td>2557</td>\n",
       "      <td>1619</td>\n",
       "      <td>6184</td>\n",
       "      <td>2570</td>\n",
       "      <td>1591</td>\n",
       "      <td>...</td>\n",
       "      <td>14193</td>\n",
       "      <td>21945</td>\n",
       "      <td>14658</td>\n",
       "      <td>12577</td>\n",
       "      <td>10687</td>\n",
       "      <td>826</td>\n",
       "      <td>2545</td>\n",
       "      <td>1275</td>\n",
       "      <td>6950</td>\n",
       "      <td>1.501684e+06</td>\n",
       "    </tr>\n",
       "  </tbody>\n",
       "</table>\n",
       "<p>5 rows × 40 columns</p>\n",
       "</div>"
      ],
      "text/plain": [
       "       eid     sex   site        age KirovPathCNV  lh_bankssts_volume  \\\n",
       "0  1000169  Female  11026  69.825269      control                2897   \n",
       "1  1000442  Female  11026  70.637097      control                2128   \n",
       "2  1000478    Male  11027  64.913978      control                2990   \n",
       "3  1000712    Male  11025  53.120968      control                3569   \n",
       "4  1000740  Female  11025  66.413978      control                2557   \n",
       "\n",
       "   lh_caudalanteriorcingulate_volume  lh_caudalmiddlefrontal_volume  \\\n",
       "0                               1175                           6272   \n",
       "1                               2464                           6764   \n",
       "2                               1664                           8464   \n",
       "3                               1070                           7927   \n",
       "4                               1619                           6184   \n",
       "\n",
       "   lh_cuneus_volume  lh_entorhinal_volume  ...  \\\n",
       "0              2877                  2201  ...   \n",
       "1              2783                  1713  ...   \n",
       "2              3859                  2042  ...   \n",
       "3              3395                  1781  ...   \n",
       "4              2570                  1591  ...   \n",
       "\n",
       "   lh_rostralmiddlefrontal_volume  lh_superiorfrontal_volume  \\\n",
       "0                           13333                      22929   \n",
       "1                           14471                      21541   \n",
       "2                           15640                      25236   \n",
       "3                           19369                      25941   \n",
       "4                           14193                      21945   \n",
       "\n",
       "   lh_superiorparietal_volume  lh_superiortemporal_volume  \\\n",
       "0                       14670                       11387   \n",
       "1                       13495                       12930   \n",
       "2                       12596                       13683   \n",
       "3                       15435                       14427   \n",
       "4                       14658                       12577   \n",
       "\n",
       "   lh_supramarginal_volume  lh_frontalpole_volume  lh_temporalpole_volume  \\\n",
       "0                    11828                    971                    2590   \n",
       "1                     9966                   1122                    2591   \n",
       "2                    11392                    908                    2531   \n",
       "3                    16230                    983                    2840   \n",
       "4                    10687                    826                    2545   \n",
       "\n",
       "   lh_transversetemporal_volume  lh_insula_volume         Total  \n",
       "0                          1008              7023  1.459688e+06  \n",
       "1                          1099              6871  1.471546e+06  \n",
       "2                          1431              7896  1.640301e+06  \n",
       "3                          1417              7405  1.718176e+06  \n",
       "4                          1275              6950  1.501684e+06  \n",
       "\n",
       "[5 rows x 40 columns]"
      ]
     },
     "execution_count": 12,
     "metadata": {},
     "output_type": "execute_result"
    }
   ],
   "source": [
    "# Little overview of my data\n",
    "UKBB_gen_MRI.head()"
   ]
  },
  {
   "cell_type": "code",
   "execution_count": 20,
   "metadata": {},
   "outputs": [
    {
     "data": {
      "text/html": [
       "<div>\n",
       "<style scoped>\n",
       "    .dataframe tbody tr th:only-of-type {\n",
       "        vertical-align: middle;\n",
       "    }\n",
       "\n",
       "    .dataframe tbody tr th {\n",
       "        vertical-align: top;\n",
       "    }\n",
       "\n",
       "    .dataframe thead th {\n",
       "        text-align: right;\n",
       "    }\n",
       "</style>\n",
       "<table border=\"1\" class=\"dataframe\">\n",
       "  <thead>\n",
       "    <tr style=\"text-align: right;\">\n",
       "      <th></th>\n",
       "      <th>sex</th>\n",
       "      <th>KirovPathCNV</th>\n",
       "    </tr>\n",
       "  </thead>\n",
       "  <tbody>\n",
       "    <tr>\n",
       "      <th>count</th>\n",
       "      <td>35759</td>\n",
       "      <td>35759</td>\n",
       "    </tr>\n",
       "    <tr>\n",
       "      <th>unique</th>\n",
       "      <td>2</td>\n",
       "      <td>65</td>\n",
       "    </tr>\n",
       "    <tr>\n",
       "      <th>top</th>\n",
       "      <td>Female</td>\n",
       "      <td>control</td>\n",
       "    </tr>\n",
       "    <tr>\n",
       "      <th>freq</th>\n",
       "      <td>18951</td>\n",
       "      <td>34494</td>\n",
       "    </tr>\n",
       "  </tbody>\n",
       "</table>\n",
       "</div>"
      ],
      "text/plain": [
       "           sex KirovPathCNV\n",
       "count    35759        35759\n",
       "unique       2           65\n",
       "top     Female      control\n",
       "freq     18951        34494"
      ]
     },
     "execution_count": 20,
     "metadata": {},
     "output_type": "execute_result"
    }
   ],
   "source": [
    "# Show the description of the columns with categorie variables\n",
    "UKBB_gen_MRI.describe(include = 'object')"
   ]
  },
  {
   "cell_type": "markdown",
   "metadata": {},
   "source": [
    "Kendall and Kirov et al. (2019) have already annotated the individuals carriers of at least on known recurrent CNV (\"KirovPathCNV\" column). \n",
    "**BUT** the CNVs used in their list are not all pathogenic - meaning they are not all fully penetrant/highly associated to psychiatric disorders."
   ]
  },
  {
   "cell_type": "code",
   "execution_count": 19,
   "metadata": {},
   "outputs": [
    {
     "data": {
      "text/plain": [
       "control                                34494\n",
       "15q13.3dup(CHRNA7)                       235\n",
       "2q13del(NPHP1)                           223\n",
       "2q13dup(NPHP1)                           189\n",
       "15q11.2dup                               147\n",
       "                                       ...  \n",
       "2q13dup(NPHP1) 16p13.11dup                 1\n",
       "10q11.21q11.23del 7q11.23dup_distal        1\n",
       "13q12.12dup   2q13del(NPHP1)               1\n",
       "17p13.3(PAFAH1B1)dup                       1\n",
       "8p23.1dup                                  1\n",
       "Name: KirovPathCNV, Length: 65, dtype: int64"
      ]
     },
     "execution_count": 19,
     "metadata": {},
     "output_type": "execute_result"
    }
   ],
   "source": [
    "x=34494-35759\n",
    "x\n",
    "UKBB_gen_MRI['KirovPathCNV'].value_counts()"
   ]
  },
  {
   "cell_type": "markdown",
   "metadata": {},
   "source": [
    "I want to select only the ones from my list of pathogenic CNVs"
   ]
  }
 ],
 "metadata": {
  "kernelspec": {
   "display_name": "Python 3",
   "language": "python",
   "name": "python3"
  },
  "language_info": {
   "codemirror_mode": {
    "name": "ipython",
    "version": 3
   },
   "file_extension": ".py",
   "mimetype": "text/x-python",
   "name": "python",
   "nbconvert_exporter": "python",
   "pygments_lexer": "ipython3",
   "version": "3.7.6"
  }
 },
 "nbformat": 4,
 "nbformat_minor": 4
}
